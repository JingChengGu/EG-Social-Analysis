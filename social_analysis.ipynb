{
 "cells": [
  {
   "cell_type": "code",
   "execution_count": 135,
   "metadata": {},
   "outputs": [],
   "source": [
    "import matplotlib.pyplot as plt\n",
    "import numpy as np\n",
    "import pandas as pd\n",
    "from matplotlib.patches import Rectangle\n",
    "import matplotlib.colors as mcolors\n",
    "import numpy as np"
   ]
  },
  {
   "cell_type": "code",
   "execution_count": 136,
   "metadata": {},
   "outputs": [
    {
     "data": {
      "text/html": [
       "<div>\n",
       "<style scoped>\n",
       "    .dataframe tbody tr th:only-of-type {\n",
       "        vertical-align: middle;\n",
       "    }\n",
       "\n",
       "    .dataframe tbody tr th {\n",
       "        vertical-align: top;\n",
       "    }\n",
       "\n",
       "    .dataframe thead th {\n",
       "        text-align: right;\n",
       "    }\n",
       "</style>\n",
       "<table border=\"1\" class=\"dataframe\">\n",
       "  <thead>\n",
       "    <tr style=\"text-align: right;\">\n",
       "      <th></th>\n",
       "      <th>Published Date</th>\n",
       "      <th>Account</th>\n",
       "      <th>Account Type</th>\n",
       "      <th>Campaign Name</th>\n",
       "      <th>Total Impressions</th>\n",
       "      <th>Total Engagements</th>\n",
       "      <th>Media Type</th>\n",
       "    </tr>\n",
       "  </thead>\n",
       "  <tbody>\n",
       "    <tr>\n",
       "      <th>0</th>\n",
       "      <td>2023-03-31 19:55:43.192</td>\n",
       "      <td>CSGO</td>\n",
       "      <td>TWITTER</td>\n",
       "      <td>N/A</td>\n",
       "      <td>0</td>\n",
       "      <td>0</td>\n",
       "      <td>Text</td>\n",
       "    </tr>\n",
       "    <tr>\n",
       "      <th>1</th>\n",
       "      <td>2023-03-31 19:49:35.243</td>\n",
       "      <td>CSGO</td>\n",
       "      <td>TWITTER</td>\n",
       "      <td>N/A</td>\n",
       "      <td>0</td>\n",
       "      <td>0</td>\n",
       "      <td>Text</td>\n",
       "    </tr>\n",
       "    <tr>\n",
       "      <th>2</th>\n",
       "      <td>2023-03-31 19:49:33.535</td>\n",
       "      <td>CSGO</td>\n",
       "      <td>TWITTER</td>\n",
       "      <td>N/A</td>\n",
       "      <td>0</td>\n",
       "      <td>0</td>\n",
       "      <td>Text</td>\n",
       "    </tr>\n",
       "    <tr>\n",
       "      <th>3</th>\n",
       "      <td>2023-03-31 19:49:31.583</td>\n",
       "      <td>CSGO</td>\n",
       "      <td>TWITTER</td>\n",
       "      <td>N/A</td>\n",
       "      <td>0</td>\n",
       "      <td>0</td>\n",
       "      <td>Text</td>\n",
       "    </tr>\n",
       "    <tr>\n",
       "      <th>4</th>\n",
       "      <td>2023-03-31 19:43:42.590</td>\n",
       "      <td>CSGO</td>\n",
       "      <td>TWITTER</td>\n",
       "      <td>Community Engagement</td>\n",
       "      <td>9517</td>\n",
       "      <td>1215</td>\n",
       "      <td>Video</td>\n",
       "    </tr>\n",
       "    <tr>\n",
       "      <th>...</th>\n",
       "      <td>...</td>\n",
       "      <td>...</td>\n",
       "      <td>...</td>\n",
       "      <td>...</td>\n",
       "      <td>...</td>\n",
       "      <td>...</td>\n",
       "      <td>...</td>\n",
       "    </tr>\n",
       "    <tr>\n",
       "      <th>3474</th>\n",
       "      <td>2023-01-03 10:35:12.652</td>\n",
       "      <td>CSGO</td>\n",
       "      <td>TWITTER</td>\n",
       "      <td>N/A</td>\n",
       "      <td>0</td>\n",
       "      <td>0</td>\n",
       "      <td>Link</td>\n",
       "    </tr>\n",
       "    <tr>\n",
       "      <th>3475</th>\n",
       "      <td>2023-01-03 10:34:55.487</td>\n",
       "      <td>CSGO</td>\n",
       "      <td>TWITTER</td>\n",
       "      <td>N/A</td>\n",
       "      <td>0</td>\n",
       "      <td>0</td>\n",
       "      <td>Link</td>\n",
       "    </tr>\n",
       "    <tr>\n",
       "      <th>3476</th>\n",
       "      <td>2023-01-03 10:34:38.631</td>\n",
       "      <td>CSGO</td>\n",
       "      <td>TWITTER</td>\n",
       "      <td>N/A</td>\n",
       "      <td>0</td>\n",
       "      <td>0</td>\n",
       "      <td>Link</td>\n",
       "    </tr>\n",
       "    <tr>\n",
       "      <th>3477</th>\n",
       "      <td>2023-01-03 10:34:03.438</td>\n",
       "      <td>CSGO</td>\n",
       "      <td>TWITTER</td>\n",
       "      <td>N/A</td>\n",
       "      <td>2116</td>\n",
       "      <td>42</td>\n",
       "      <td>Text</td>\n",
       "    </tr>\n",
       "    <tr>\n",
       "      <th>3478</th>\n",
       "      <td>2023-01-01 14:59:04.000</td>\n",
       "      <td>General</td>\n",
       "      <td>FBPAGE</td>\n",
       "      <td>N/A</td>\n",
       "      <td>0</td>\n",
       "      <td>0</td>\n",
       "      <td>Photo</td>\n",
       "    </tr>\n",
       "  </tbody>\n",
       "</table>\n",
       "<p>3479 rows × 7 columns</p>\n",
       "</div>"
      ],
      "text/plain": [
       "              Published Date   Account Account Type          Campaign Name  \\\n",
       "0    2023-03-31 19:55:43.192      CSGO      TWITTER                   N/A    \n",
       "1    2023-03-31 19:49:35.243      CSGO      TWITTER                   N/A    \n",
       "2    2023-03-31 19:49:33.535      CSGO      TWITTER                   N/A    \n",
       "3    2023-03-31 19:49:31.583      CSGO      TWITTER                   N/A    \n",
       "4    2023-03-31 19:43:42.590      CSGO      TWITTER  Community Engagement    \n",
       "...                      ...       ...          ...                    ...   \n",
       "3474 2023-01-03 10:35:12.652      CSGO      TWITTER                   N/A    \n",
       "3475 2023-01-03 10:34:55.487      CSGO      TWITTER                   N/A    \n",
       "3476 2023-01-03 10:34:38.631      CSGO      TWITTER                   N/A    \n",
       "3477 2023-01-03 10:34:03.438      CSGO      TWITTER                   N/A    \n",
       "3478 2023-01-01 14:59:04.000  General        FBPAGE                   N/A    \n",
       "\n",
       "      Total Impressions  Total Engagements Media Type  \n",
       "0                     0                  0       Text  \n",
       "1                     0                  0       Text  \n",
       "2                     0                  0       Text  \n",
       "3                     0                  0       Text  \n",
       "4                  9517               1215      Video  \n",
       "...                 ...                ...        ...  \n",
       "3474                  0                  0       Link  \n",
       "3475                  0                  0       Link  \n",
       "3476                  0                  0       Link  \n",
       "3477               2116                 42       Text  \n",
       "3478                  0                  0      Photo  \n",
       "\n",
       "[3479 rows x 7 columns]"
      ]
     },
     "execution_count": 136,
     "metadata": {},
     "output_type": "execute_result"
    }
   ],
   "source": [
    "data = pd.read_excel(\"social_data.xlsx\")\n",
    "data"
   ]
  },
  {
   "cell_type": "code",
   "execution_count": 137,
   "metadata": {},
   "outputs": [
    {
     "name": "stdout",
     "output_type": "stream",
     "text": [
      "Average engagement rate is 8.63%.\n",
      "Likelihood of achieving 15% engagement rate is 6.50%.\n"
     ]
    }
   ],
   "source": [
    "# Task 1:\n",
    "# Calculate the average engagement rate\n",
    "average_engagement_rate = data['Total Engagements'].mean() / data['Total Impressions'].mean()\n",
    "print(\"Average engagement rate is {:.2%}.\".format(average_engagement_rate))\n",
    "\n",
    "# Calculate the likelihood of achieving a 15% engagement rate\n",
    "likelihood_15_percent = len(data[data['Total Engagements'] / data['Total Impressions'] >= 0.15]) / len(data)\n",
    "print(\"Likelihood of achieving 15% engagement rate is {:.2%}.\".format(likelihood_15_percent))"
   ]
  },
  {
   "cell_type": "code",
   "execution_count": 148,
   "metadata": {},
   "outputs": [
    {
     "name": "stdout",
     "output_type": "stream",
     "text": [
      "day_of_week\n",
      "Sunday       0.105989\n",
      "Monday       0.067156\n",
      "Tuesday      0.101637\n",
      "Wednesday    0.078187\n",
      "Thursday     0.089751\n",
      "Friday       0.085896\n",
      "Saturday     0.048438\n",
      "Name: engagement_rate, dtype: float64\n",
      "The best performing day of the week for engagement rate is: Sunday at 10.60%.\n",
      "The worst performing day of the week for engagement rate is: Saturday at 4.84%.\n",
      "\n",
      "The best performing hour of the day for engagement rate is: 05:00 AM at 26.28%.\n",
      "The worst performing hour of the day for engagement rate is: 11:00 PM at 0.71%.\n"
     ]
    }
   ],
   "source": [
    "# Task 2:\n",
    "import datetime\n",
    "# Extract day of the week and hour from the 'Published Date' column\n",
    "data['day_of_week'] = data['Published Date'].dt.day_name()\n",
    "data['hour_of_day'] = data['Published Date'].dt.hour\n",
    "\n",
    "# Group the data by day of the week and calculate total engagements and impressions\n",
    "week_order = ['Sunday', 'Monday', 'Tuesday', 'Wednesday', 'Thursday', 'Friday', 'Saturday']\n",
    "data['day_of_week'] = pd.Categorical(data['day_of_week'], categories=week_order, ordered=True)\n",
    "data = data.sort_values('day_of_week')\n",
    "engagement_by_day = data.groupby('day_of_week').agg({'Total Engagements': 'sum', 'Total Impressions': 'sum'})\n",
    "\n",
    "# Calculate the engagement rate for each day\n",
    "engagement_by_day['engagement_rate'] = engagement_by_day['Total Engagements'] / engagement_by_day['Total Impressions']\n",
    "\n",
    "# Find the best performing day of the week for engagement rate\n",
    "best_day = engagement_by_day['engagement_rate'].idxmax()\n",
    "best_day_rate = engagement_by_day.loc[best_day, 'engagement_rate']\n",
    "worst_day = engagement_by_day['engagement_rate'].idxmin()\n",
    "worst_day_rate = engagement_by_day.loc[worst_day, 'engagement_rate']\n",
    "day_of_week_rate = engagement_by_day['engagement_rate']\n",
    "print(day_of_week_rate)\n",
    "print(\"The best performing day of the week for engagement rate is: {} at {:.2%}.\".format(best_day, best_day_rate))\n",
    "print(\"The worst performing day of the week for engagement rate is: {} at {:.2%}.\".format(worst_day, worst_day_rate))\n",
    "\n",
    "# Group the data by hour of the day and calculate total engagements and impressions\n",
    "engagement_by_hour = data.groupby('hour_of_day').agg({'Total Engagements': 'sum', 'Total Impressions': 'sum'})\n",
    "\n",
    "# Calculate the engagement rate for each hour\n",
    "engagement_by_hour['engagement_rate'] = engagement_by_hour['Total Engagements'] / engagement_by_hour['Total Impressions']\n",
    "\n",
    "# Find the best performing hour of the day for engagement rate\n",
    "best_hour = engagement_by_hour['engagement_rate'].idxmax()\n",
    "worst_hour = engagement_by_hour['engagement_rate'].idxmin()\n",
    "best_dt = datetime.datetime(2023, 1, 1, best_hour, 0, 0)\n",
    "worst_dt = datetime.datetime(2023, 1, 1, worst_hour, 0, 0)\n",
    "best_readable_time = best_dt.strftime(\"%I:%M %p\")\n",
    "worst_readable_time = worst_dt.strftime(\"%I:%M %p\")\n",
    "best_hour_rate = engagement_by_hour.loc[best_hour, 'engagement_rate']\n",
    "worst_hour_rate = engagement_by_hour.loc[worst_hour, 'engagement_rate']\n",
    "#print(engagement_by_hour['engagement_rate'])\n",
    "print()\n",
    "print(\"The best performing hour of the day for engagement rate is: {} at {:.2%}.\".format(best_readable_time, best_hour_rate))\n",
    "print(\"The worst performing hour of the day for engagement rate is: {} at {:.2%}.\".format(worst_readable_time, worst_hour_rate))"
   ]
  },
  {
   "cell_type": "code",
   "execution_count": 150,
   "metadata": {},
   "outputs": [
    {
     "data": {
      "image/png": "[encoded data removed]",
      "text/plain": [
       "<Figure size 640x480 with 1 Axes>"
      ]
     },
     "metadata": {},
     "output_type": "display_data"
    }
   ],
   "source": [
    "# Ploting day of the week data based on their engagement rates\n",
    "plt.plot(day_of_week_rate.index, day_of_week_rate, color = 'slateblue', marker=\"*\")\n",
    "# adding annotations and visuals\n",
    "plt.xlabel(\"Day of the week\")\n",
    "plt.ylabel(\"Engagement Rate\")\n",
    "plt.title(\"Engagement Rate Per Day of the Week\")\n",
    "plt.grid(True)\n",
    "plt.savefig('EngagementPerDay.png')\n",
    "plt.show()\n",
    "\n",
    "#"
   ]
  },
  {
   "cell_type": "code",
   "execution_count": 151,
   "metadata": {},
   "outputs": [
    {
     "name": "stdout",
     "output_type": "stream",
     "text": [
      "                  Total Engagements  Total Impressions  Engagement Rate\n",
      "Account                                                                \n",
      "CSGO                          92336            2313918         0.039905\n",
      "Content Creators               1387              45186         0.030695\n",
      "DOTA2                        123990            1859326         0.066685\n",
      "General                     3077328           33931757         0.090692\n",
      "Valorant                        931              22979         0.040515\n",
      "The best performing account is the \"General\" account with the engagement rate of 9.07%.\n",
      "The worst performing account is the \"Content Creators\" account with the engagement rate of 3.07%.\n"
     ]
    }
   ],
   "source": [
    "# Task 3:\n",
    "# \"General\" variable is flawed with some having trailing spaces. Group them first in data.\n",
    "data['Account'] = data['Account'].str.strip()\n",
    "game_performance = data.groupby('Account').agg({'Total Engagements': 'sum', 'Total Impressions': 'sum'})\n",
    "game_performance['Engagement Rate'] = game_performance['Total Engagements'] / game_performance['Total Impressions']\n",
    "print(game_performance)\n",
    "best_account = game_performance['Engagement Rate'].idxmax()\n",
    "worst_account = game_performance['Engagement Rate'].idxmin()\n",
    "#print(best_account)\n",
    "best_acc_rate = game_performance.loc[best_account, 'Engagement Rate']\n",
    "worst_acc_rate = game_performance.loc[worst_account, 'Engagement Rate']\n",
    "print('The best performing account is the \"{}\" account with the engagement rate of {:.02%}.'.format(best_account, best_acc_rate))\n",
    "print('The worst performing account is the \"{}\" account with the engagement rate of {:.02%}.'.format(worst_account, worst_acc_rate))"
   ]
  },
  {
   "cell_type": "code",
   "execution_count": 96,
   "metadata": {},
   "outputs": [
    {
     "name": "stdout",
     "output_type": "stream",
     "text": [
      "Photo       1490\n",
      "Video        967\n",
      "Text         910\n",
      "Link          94\n",
      "Carousel       9\n",
      "Mixed          5\n",
      "Album          4\n",
      "Name: Media Type, dtype: int64\n"
     ]
    }
   ],
   "source": [
    "# Pre Task 4 (Understanding the Media Types):\n",
    "# The media types Carousel, Mixed, Album, are low on sample size may not be reliable.\n",
    "print(data[\"Media Type\"].value_counts())"
   ]
  },
  {
   "cell_type": "code",
   "execution_count": 97,
   "metadata": {},
   "outputs": [
    {
     "name": "stdout",
     "output_type": "stream",
     "text": [
      "            Total Engagements  Total Impressions  Engagement Rate\n",
      "Media Type                                                       \n",
      "Album                       8                 20         0.400000\n",
      "Carousel                 6541             160689         0.040706\n",
      "Link                     2257             232465         0.009709\n",
      "Mixed                   13664             184984         0.073866\n",
      "Photo                 2167739           23893992         0.090723\n",
      "Text                   246312            3106203         0.079297\n",
      "Video                  859451           10594813         0.081120\n",
      "The best performing media is the \"Album\" media with the engagement rate of 40.00%.\n",
      "The worst performing media is the \"Link\" media with the engagement rate of 0.97%.\n",
      "The best performing media that is not the album media is the \"Photo\" media with the engagement rate of 9.07%.\n"
     ]
    }
   ],
   "source": [
    "# Task 4:\n",
    "media_performance = data.groupby('Media Type').agg({'Total Engagements': 'sum', 'Total Impressions': 'sum'})\n",
    "media_performance['Engagement Rate'] = media_performance['Total Engagements'] / media_performance['Total Impressions']\n",
    "print(media_performance)\n",
    "best_media = media_performance['Engagement Rate'].idxmax()\n",
    "worst_media = media_performance['Engagement Rate'].idxmin()\n",
    "best_media_rate = media_performance.loc[best_media, 'Engagement Rate']\n",
    "worst_media_rate = media_performance.loc[worst_media, 'Engagement Rate']\n",
    "print('The best performing media is the \"{}\" media with the engagement rate of {:.02%}.'.format(best_media, best_media_rate))\n",
    "print('The worst performing media is the \"{}\" media with the engagement rate of {:.02%}.'.format(worst_media, worst_media_rate))\n",
    "\n",
    "# we should drop the album media type to evaluate the data without the outlier.\n",
    "no_album = media_performance.drop(\"Album\")\n",
    "best_media = no_album['Engagement Rate'].idxmax()\n",
    "best_media_rate = no_album.loc[best_media, 'Engagement Rate']\n",
    "\n",
    "print('The best performing media that is not the album media is the \"{}\" media with the engagement rate of {:.02%}.'.format(best_media, best_media_rate))\n"
   ]
  },
  {
   "cell_type": "code",
   "execution_count": 123,
   "metadata": {},
   "outputs": [
    {
     "name": "stdout",
     "output_type": "stream",
     "text": [
      "                      Total Engagements  Total Impressions  Engagement Rate\n",
      "Campaign Name                                                              \n",
      "Community Engagement            2044767           23803756         0.085901\n",
      "Evergreen                         43127            1328729         0.032457\n",
      "Evil Exhibited                   185305            5742595         0.032269\n",
      "N/A                             1022773            7298086         0.140143\n",
      "Best Performing Campaign is categorized as N/A with 14.01% and these are the campaigns that are not categorized.\n",
      "Best Performing Campaign aside from \"NA\" is \"Community Engagement\" with 8.59%.\n"
     ]
    }
   ],
   "source": [
    "# Task 5:\n",
    "data['Campaign Name'] = data['Campaign Name'].str.strip()\n",
    "campaign_performance = data.groupby('Campaign Name').agg({'Total Engagements': 'sum', 'Total Impressions': 'sum'})\n",
    "campaign_performance['Engagement Rate'] = campaign_performance['Total Engagements'] / campaign_performance['Total Impressions']\n",
    "print(campaign_performance)\n",
    "best_campaign = campaign_performance['Engagement Rate'].idxmax()\n",
    "best_campaign_rate = campaign_performance.loc[best_campaign, \"Engagement Rate\"]\n",
    "print(\"Best Performing Campaign is categorized as {} with {:.02%} and these are the campaigns that are not categorized.\".format(best_campaign, best_campaign_rate))\n",
    "no_NA = campaign_performance.drop(\"N/A\")\n",
    "best_no_NA = no_NA['Engagement Rate'].idxmax()\n",
    "best_no_NA_rate = no_NA.loc[best_no_NA, 'Engagement Rate']\n",
    "print('Best Performing Campaign aside from \"NA\" is \"{}\" with {:.02%}.'.format(best_no_NA, best_no_NA_rate))\n"
   ]
  }
 ],
 "metadata": {
  "kernelspec": {
   "display_name": "Python 3",
   "language": "python",
   "name": "python3"
  },
  "language_info": {
   "codemirror_mode": {
    "name": "ipython",
    "version": 3
   },
   "file_extension": ".py",
   "mimetype": "text/x-python",
   "name": "python",
   "nbconvert_exporter": "python",
   "pygments_lexer": "ipython3",
   "version": "3.9.0"
  },
  "orig_nbformat": 4
 },
 "nbformat": 4,
 "nbformat_minor": 2
}
